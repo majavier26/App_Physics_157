{
  "cells": [
    {
      "cell_type": "markdown",
      "metadata": {
        "id": "8u3wdhYhX6GF"
      },
      "source": [
        "# **AP157 Module C Lab Assignment**\n",
        "\n",
        "## Module C2: Monte Carlo Methods\n",
        "\n",
        "_Instructions_: Answer each part of the assignment as completely as you can. Discuss **all** your code and results as clearly and concisely as possible.\n",
        "\n",
        "_Scoring Criteria_: 50% - *correctness of code*; 50% - *discussion of the code and results*. Maximum score is **100 points**.\n",
        "\n",
        "_Credits_: This lab assignment is based on work by Dr. Reyes in collaboration with Gene Belinario and Dr. Reginald Bernardo."
      ]
    },
    {
      "cell_type": "markdown",
      "metadata": {
        "id": "x6QU0eeNYseY"
      },
      "source": [
        "### Student Information\n",
        "\n",
        "_Full Name (Last Name, First Name)_: \\\n",
        "_Student No._:\\\n",
        "_Section_:"
      ]
    },
    {
      "cell_type": "markdown",
      "metadata": {
        "id": "GzwlHlFwYtbv"
      },
      "source": [
        "### Submission Information\n",
        "\n",
        "_Date and Time Submitted (most recent upload)_:\n",
        "\n",
        "**HONOR PLEDGE** I affirm that I have upheld the highest principles of honesty and integrity in my academic work and that this lab assignment is my own work.\n",
        "\n",
        "**Sign here with your full name:**"
      ]
    },
    {
      "cell_type": "markdown",
      "metadata": {
        "id": "1as4IpTFYxfx"
      },
      "source": [
        "### Grading Information (c/o Instructor)\n",
        "\n",
        "TOTAL SCORE: **[]**/100\n",
        "\n",
        "Score breakdown:\n",
        "* Part 1 - []/20\n",
        "* Part 2 - []/20\n",
        "* Part 3 - []/30\n",
        "* Part 4 - []/30\n",
        "\n",
        "_Date and Time Scored (MM/DD/YYYY HH:MM AM/PM):_"
      ]
    },
    {
      "cell_type": "markdown",
      "metadata": {
        "id": "PB0N2FuuY3RU"
      },
      "source": [
        "In this lab assignment, you will generate constraints on cosmological parameters, the Hubble parameter H_0 and matter density Omega_m,0, from (synthetic) Hubble diagram data points from gravitational-wave (GW) sirens observed from 3 GW observatories: LIGO, LISA, and Einstein Telescope (ET).\n",
        "\n",
        "The datasets are in the Google Drive \"Datasets\" Folder under \"AP157_moduleC2\" subfolder: https://drive.google.com/drive/folders/1UnK1AggxdsjtG3PoOcyXfpahBcWjOBzj?usp=drive_link.\n",
        "\n",
        "Read in the 3 datasets from the CSV files: LIGO.csv, LISA.csv, ET.csv. The columns are redshift (z), luminosity distance (dL), and error in the luminosity distance (err). The distances are in units of Gpc (giga-parsecs).\n",
        "\n",
        "Load the data into variable names: zLIGO, dLLIGO, errLIGO, zLISA, dLLISA, errLISA, and zET, dLET, and errET, respectively. Note that these variable names will be used in later parts of the code, so you have to use these names for compatibility."
      ]
    },
    {
      "cell_type": "code",
      "execution_count": 1,
      "metadata": {
        "id": "wWNT09i67_zg"
      },
      "outputs": [
        {
          "name": "stderr",
          "output_type": "stream",
          "text": [
            "c:\\Users\\Ian\\anaconda3\\lib\\site-packages\\scipy\\__init__.py:155: UserWarning: A NumPy version >=1.18.5 and <1.25.0 is required for this version of SciPy (detected version 1.26.0\n",
            "  warnings.warn(f\"A NumPy version >={np_minversion} and <{np_maxversion}\"\n"
          ]
        }
      ],
      "source": [
        "import numpy as np\n",
        "import pandas as pd\n",
        "import seaborn as sns\n",
        "import matplotlib.pyplot as plt\n",
        "import networkx as nx"
      ]
    },
    {
      "cell_type": "code",
      "execution_count": 21,
      "metadata": {},
      "outputs": [],
      "source": [
        "ligo_data = pd.read_csv('LIGO.csv')\n",
        "lisa_data = pd.read_csv('LISA.csv')\n",
        "et_data = pd.read_csv('ET.csv')\n",
        "\n",
        "zLIGO, dlLIGO, errLIGO = ligo_data['zLIGO'], ligo_data['dlLIGO'], ligo_data['errLIGO']\n",
        "zLISA, dlLISA, errLISA = lisa_data['zLISA'], lisa_data['dlLISA'], lisa_data['errLISA']\n",
        "zET, dlET, errET = et_data['zET'], et_data['dlET'], et_data['errET']"
      ]
    },
    {
      "cell_type": "code",
      "execution_count": 19,
      "metadata": {},
      "outputs": [
        {
          "data": {
            "text/html": [
              "<div>\n",
              "<style scoped>\n",
              "    .dataframe tbody tr th:only-of-type {\n",
              "        vertical-align: middle;\n",
              "    }\n",
              "\n",
              "    .dataframe tbody tr th {\n",
              "        vertical-align: top;\n",
              "    }\n",
              "\n",
              "    .dataframe thead th {\n",
              "        text-align: right;\n",
              "    }\n",
              "</style>\n",
              "<table border=\"1\" class=\"dataframe\">\n",
              "  <thead>\n",
              "    <tr style=\"text-align: right;\">\n",
              "      <th></th>\n",
              "      <th>zLIGO</th>\n",
              "      <th>dlLIGO</th>\n",
              "      <th>errLIGO</th>\n",
              "    </tr>\n",
              "  </thead>\n",
              "  <tbody>\n",
              "    <tr>\n",
              "      <th>0</th>\n",
              "      <td>0.033270</td>\n",
              "      <td>0.101250</td>\n",
              "      <td>0.026146</td>\n",
              "    </tr>\n",
              "    <tr>\n",
              "      <th>1</th>\n",
              "      <td>0.106210</td>\n",
              "      <td>0.698621</td>\n",
              "      <td>0.137968</td>\n",
              "    </tr>\n",
              "    <tr>\n",
              "      <th>2</th>\n",
              "      <td>0.073820</td>\n",
              "      <td>0.338016</td>\n",
              "      <td>0.067550</td>\n",
              "    </tr>\n",
              "    <tr>\n",
              "      <th>3</th>\n",
              "      <td>0.047333</td>\n",
              "      <td>0.206075</td>\n",
              "      <td>0.034506</td>\n",
              "    </tr>\n",
              "    <tr>\n",
              "      <th>4</th>\n",
              "      <td>0.113966</td>\n",
              "      <td>0.401371</td>\n",
              "      <td>0.159718</td>\n",
              "    </tr>\n",
              "    <tr>\n",
              "      <th>...</th>\n",
              "      <td>...</td>\n",
              "      <td>...</td>\n",
              "      <td>...</td>\n",
              "    </tr>\n",
              "    <tr>\n",
              "      <th>95</th>\n",
              "      <td>0.140751</td>\n",
              "      <td>0.607664</td>\n",
              "      <td>0.249926</td>\n",
              "    </tr>\n",
              "    <tr>\n",
              "      <th>96</th>\n",
              "      <td>0.170735</td>\n",
              "      <td>1.064420</td>\n",
              "      <td>0.380081</td>\n",
              "    </tr>\n",
              "    <tr>\n",
              "      <th>97</th>\n",
              "      <td>0.073560</td>\n",
              "      <td>0.278404</td>\n",
              "      <td>0.067117</td>\n",
              "    </tr>\n",
              "    <tr>\n",
              "      <th>98</th>\n",
              "      <td>0.113640</td>\n",
              "      <td>0.456064</td>\n",
              "      <td>0.158766</td>\n",
              "    </tr>\n",
              "    <tr>\n",
              "      <th>99</th>\n",
              "      <td>0.030374</td>\n",
              "      <td>0.081270</td>\n",
              "      <td>0.025129</td>\n",
              "    </tr>\n",
              "  </tbody>\n",
              "</table>\n",
              "<p>100 rows × 3 columns</p>\n",
              "</div>"
            ],
            "text/plain": [
              "       zLIGO    dlLIGO   errLIGO\n",
              "0   0.033270  0.101250  0.026146\n",
              "1   0.106210  0.698621  0.137968\n",
              "2   0.073820  0.338016  0.067550\n",
              "3   0.047333  0.206075  0.034506\n",
              "4   0.113966  0.401371  0.159718\n",
              "..       ...       ...       ...\n",
              "95  0.140751  0.607664  0.249926\n",
              "96  0.170735  1.064420  0.380081\n",
              "97  0.073560  0.278404  0.067117\n",
              "98  0.113640  0.456064  0.158766\n",
              "99  0.030374  0.081270  0.025129\n",
              "\n",
              "[100 rows x 3 columns]"
            ]
          },
          "execution_count": 19,
          "metadata": {},
          "output_type": "execute_result"
        }
      ],
      "source": [
        "ligo_data"
      ]
    },
    {
      "cell_type": "markdown",
      "metadata": {
        "id": "Xz28sa5B9mpx"
      },
      "source": [
        "By the end of the lab assignment, you will generate constraints on the cosmological parameters H_0 and omega_m,0 for 3 samples: LIGO only, LIGO+LISA, and LIGO+LISA+ET (combined). You will generate a corner plot to visualize these constraints similar to the figure here: https://drive.google.com/file/d/18H7GPlox4ijS9qFbk1rHo-NW5N_Nsfer/view?usp=drive_link"
      ]
    },
    {
      "cell_type": "markdown",
      "metadata": {
        "id": "SqkP0l40aKHj"
      },
      "source": [
        "#### PART 1 - Generate Hubble Diagram *(20 points)*\n",
        "\n",
        "Make a Hubble diagram plot-- with luminosity distance (d_L) in the vertical axis and redshift (z) in the horizontal axis. Show the errors in d_L as error bars.\n",
        "\n",
        "Plot GW sirens from the 3 observatories in the same plot and include a legend. Briefly describe the difference between the samples from the 3 observatories."
      ]
    },
    {
      "cell_type": "code",
      "execution_count": 4,
      "metadata": {
        "id": "drqNxmsAayWH"
      },
      "outputs": [
        {
          "data": {
            "text/plain": [
              "<AxesSubplot:xlabel='zLIGO', ylabel='dlLIGO'>"
            ]
          },
          "execution_count": 4,
          "metadata": {},
          "output_type": "execute_result"
        },
        {
          "data": {
            "image/png": "[encoded data removed]",
            "text/plain": [
              "<Figure size 640x480 with 1 Axes>"
            ]
          },
          "metadata": {},
          "output_type": "display_data"
        }
      ],
      "source": [
        "sns.lineplot(data=ligo_data, x='zLIGO', y='dlLIGO')\n",
        "sns.lineplot(data=lisa_data, x='zLISA', y='dlLISA')\n",
        "sns.lineplot(data=et_data, x='zET', y='dlET')"
      ]
    },
    {
      "cell_type": "code",
      "execution_count": 18,
      "metadata": {},
      "outputs": [
        {
          "data": {
            "text/plain": [
              "0     0.033270\n",
              "1     0.106210\n",
              "2     0.073820\n",
              "3     0.047333\n",
              "4     0.113966\n",
              "        ...   \n",
              "95    0.140751\n",
              "96    0.170735\n",
              "97    0.073560\n",
              "98    0.113640\n",
              "99    0.030374\n",
              "Name: zLIGO, Length: 100, dtype: float64"
            ]
          },
          "execution_count": 18,
          "metadata": {},
          "output_type": "execute_result"
        }
      ],
      "source": [
        "ligo_data['zLIGO']"
      ]
    },
    {
      "cell_type": "code",
      "execution_count": 24,
      "metadata": {},
      "outputs": [
        {
          "data": {
            "image/png": "[encoded data removed]",
            "text/plain": [
              "<Figure size 640x480 with 1 Axes>"
            ]
          },
          "metadata": {},
          "output_type": "display_data"
        }
      ],
      "source": [
        "plt.scatter(zLIGO, dlLIGO, label='LIGO', color='tab:red')\n",
        "plt.errorbar(zLIGO, dlLIGO, yerr=errLIGO, fmt='.', color='tab:red')\n",
        "plt.scatter(zLISA, dlLISA, label='LISA', color='tab:blue')\n",
        "plt.errorbar(zLISA, dlLISA, yerr=errLISA, fmt='.', color='tab:blue')\n",
        "plt.scatter(zET, dlET, label='ET', color='tab:green')\n",
        "plt.errorbar(zET, dlET, yerr=errET, fmt='.', color='tab:green')\n",
        "plt.legend()\n",
        "plt.show()"
      ]
    },
    {
      "cell_type": "markdown",
      "metadata": {
        "id": "CPkkgWSqazmJ"
      },
      "source": [
        "#### PART 2 - Define likelihood functions *(20 points)*\n",
        "\n",
        "In this analysis, we will assume the cosmological model to be flat LambdaCDM universe. This is given by the `FlatLambdaCDM' model from the astropy.cosmology package. In particular, we use the model for the luminosity distance as a function of redshift, which is encoded in the luminosity_distance function.\n",
        "\n",
        "Below, define the chi-square and likelihood function to be used for the LIGO only and the LIGO+LISA dataset. You are asked to define the analogous functions for the LIGO+LISA+ET dataset. Note that the likelihood for the combined dataset is simply the sum of the likelihoods for the individual datasets.\n",
        "\n",
        "\n"
      ]
    },
    {
      "cell_type": "code",
      "execution_count": 7,
      "metadata": {
        "id": "d40B1twMbw9Y"
      },
      "outputs": [],
      "source": [
        "from astropy.cosmology import FlatLambdaCDM"
      ]
    },
    {
      "cell_type": "code",
      "execution_count": 25,
      "metadata": {
        "id": "lIFbFSTNbd9V"
      },
      "outputs": [],
      "source": [
        "def chi2LIGO_lcdm(H0, Om0):\n",
        "    cosmo = FlatLambdaCDM(H0=H0, Om0=Om0, Tcmb0=2.725)      # define cosmological model\n",
        "    model = np.array(cosmo.luminosity_distance(zLIGO)/1000) # converted from Gpc to Mpc units\n",
        "    dev = (model - np.array(dlLIGO))/np.array(errLIGO)      # deviations between model and data\n",
        "    chi2 = sum(dev**2)\n",
        "    return chi2\n",
        "\n",
        "def llikeLIGO_lcdm(H0, Om0):\n",
        "    if (H0 < 0) or (Om0 < 0):\n",
        "        return -np.inf                        # return inf if outside priors\n",
        "    else:\n",
        "        return -0.5*chi2LIGO_lcdm(H0, Om0)\n",
        "\n",
        "# LIGO + LISA\n",
        "def chi2LISA_lcdm(H0, Om0):\n",
        "    cosmo = FlatLambdaCDM(H0=H0, Om0=Om0, Tcmb0=2.725)\n",
        "    model = np.array(cosmo.luminosity_distance(zLISA)/1000)\n",
        "    dev = (model - np.array(dlLISA))/np.array(errLISA)\n",
        "    chi2 = sum(dev**2)\n",
        "    return chi2\n",
        "\n",
        "def llikeLIGOLISA_lcdm(H0, Om0):\n",
        "    if (H0 < 0) or (Om0 < 0):\n",
        "        return -np.inf\n",
        "    else:\n",
        "        return -0.5*(chi2LIGO_lcdm(H0, Om0) + chi2LISA_lcdm(H0, Om0))\n",
        "\n",
        "# LIGO + LISA + ET\n",
        "def chi2ET_lcdm(H0, Om0):\n",
        "    cosmo = FlatLambdaCDM(H0=H0, Om0=Om0, Tcmb0=2.725)\n",
        "    model = np.array(cosmo.luminosity_distance(zET)/1000)\n",
        "    dev = (model - np.array(dlET))/np.array(errET)\n",
        "    chi2 = sum(dev**2)\n",
        "    return chi2\n",
        "\n",
        "def llikeLIGOLISAET_lcdm(H0, Om0):\n",
        "    if (H0 < 0) or (Om0 < 0):\n",
        "        return -np.inf\n",
        "    else:\n",
        "        return -0.5*(chi2LIGO_lcdm(H0, Om0) + chi2LISA_lcdm(H0, Om0) + chi2ET_lcdm(H0, Om0))"
      ]
    },
    {
      "cell_type": "markdown",
      "metadata": {
        "id": "qz6HLhQE8UAh"
      },
      "source": [
        "#### PART 3 - Perform MCMC runs *(30 points)*\n",
        "\n",
        "Use the emcee library to set up and perform MCMC runs for the 3 samples: LIGO only, LIGO+LISA, and LIGO+LISA+ET combined.\n",
        "\n",
        "You can use number of walkers (nwalkers) of 6 and number of iterations (niter) of 5,000 and number of burn-in samples (nburn) of 100.\n"
      ]
    },
    {
      "cell_type": "code",
      "execution_count": 27,
      "metadata": {
        "id": "iGseIx73b9zd"
      },
      "outputs": [],
      "source": [
        "import emcee as mc\n",
        "\n",
        "pos = soln.x + 1e-4 * np.random.randn(32, 3)\n",
        "nwalkers, ndim = pos.shape\n",
        "\n",
        "sampler = mc.EnsembleSampler(\n",
        "    nwalkers, ndim, log_probability, args=(x, y, yerr)\n",
        ")\n",
        "sampler.run_mcmc(pos, 5000, progress=True);"
      ]
    },
    {
      "cell_type": "markdown",
      "metadata": {
        "id": "WAjESvPb8q3X"
      },
      "source": [
        "#### PART 4 - Generate corner plot to visualize the constraints *(30 points)*\n",
        "\n",
        "Overlay the results for the 3 samples for easy comparison. Your plot should resemble the figure here: https://drive.google.com/file/d/18H7GPlox4ijS9qFbk1rHo-NW5N_Nsfer/view?usp=drive_link\n",
        "\n",
        "Briefly describe the difference between the constraints obtained from the different samples."
      ]
    },
    {
      "cell_type": "code",
      "execution_count": null,
      "metadata": {
        "id": "4_ITeJOM8uww"
      },
      "outputs": [],
      "source": []
    }
  ],
  "metadata": {
    "colab": {
      "provenance": []
    },
    "kernelspec": {
      "display_name": "Python 3",
      "name": "python3"
    },
    "language_info": {
      "codemirror_mode": {
        "name": "ipython",
        "version": 3
      },
      "file_extension": ".py",
      "mimetype": "text/x-python",
      "name": "python",
      "nbconvert_exporter": "python",
      "pygments_lexer": "ipython3",
      "version": "3.9.13"
    }
  },
  "nbformat": 4,
  "nbformat_minor": 0
}
